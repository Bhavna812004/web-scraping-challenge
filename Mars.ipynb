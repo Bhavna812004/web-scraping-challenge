{
 "cells": [
  {
   "cell_type": "code",
   "execution_count": 1,
   "metadata": {},
   "outputs": [],
   "source": [
    "import pandas as pd\n",
    "from splinter import Browser\n",
    "from bs4 import BeautifulSoup\n",
    "from datetime import datetime\n",
    "import requests\n",
    "from requests import get\n",
    "import os\n",
    "import time"
   ]
  },
  {
   "cell_type": "code",
   "execution_count": 3,
   "metadata": {},
   "outputs": [
    {
     "name": "stdout",
     "output_type": "stream",
     "text": [
      "Air Deliveries Bring NASA's Perseverance Mars Rover Closer to Launch\n",
      "A NASA Wallops Flight Facility cargo plane transported more than two tons of equipment — including the rover's sample collection tubes — to Florida for this summer's liftoff.\n"
     ]
    }
   ],
   "source": [
    "#NASA LATEST MARS NEWS\n",
    "executable_path = {'executable_path':'chromedriver.exe'}\n",
    "browser = Browser('chrome', **executable_path, headless=False)\n",
    "url = \"https://mars.nasa.gov/news/\"\n",
    "browser.visit(url)\n",
    "html = browser.html\n",
    "soup = BeautifulSoup(html, 'html.parser')\n",
    "news_title = soup.find_all('div', class_='content_title')[1].text\n",
    "news_p = soup.body.find('div',class_='article_teaser_body').text\n",
    "print(news_title)\n",
    "print(news_p)"
   ]
  },
  {
   "cell_type": "code",
   "execution_count": 4,
   "metadata": {},
   "outputs": [
    {
     "data": {
      "text/plain": [
       "'https://www.jpl.nasa.gov/spaceimages/images/wallpaper/PIA16726-1920x1200.jpg'"
      ]
     },
     "execution_count": 4,
     "metadata": {},
     "output_type": "execute_result"
    }
   ],
   "source": [
    "#JPL Mars Space Images - Featured Image\n",
    "featured_image_url = \"https://www.jpl.nasa.gov/spaceimages/?search=&category=Mars\"\n",
    "browser.visit(featured_image_url)\n",
    "html_image = browser.html\n",
    "soup = BeautifulSoup(html_image, 'html.parser')\n",
    "featured_image_url  = soup.find('article')['style'].replace('background-image: url(','').replace(');', '')[1:-1]\n",
    "main_url = 'https://www.jpl.nasa.gov'\n",
    "featured_image_url = main_url + featured_image_url\n",
    "featured_image_url"
   ]
  },
  {
   "cell_type": "code",
   "execution_count": 5,
   "metadata": {},
   "outputs": [
    {
     "data": {
      "text/plain": [
       "'InSight sol 528 (2020-05-22) low -93.5ºC (-136.3ºF) high -5.3ºC (22.4ºF)\\nwinds from the SW at 6.3 m/s (14.0 mph) gusting to 23.6 m/s (52.8 mph)\\npressure at 7.10 hPapic.twitter.com/bV5pLbAGoE'"
      ]
     },
     "execution_count": 5,
     "metadata": {},
     "output_type": "execute_result"
    }
   ],
   "source": [
    " #Mars Weather from twitter\n",
    "mars_weather_url = 'https://twitter.com/marswxreport?lang=en'\n",
    "response = requests.get(mars_weather_url)\n",
    "soup2 = BeautifulSoup(response.text, 'lxml')\n",
    " \n",
    "#make empty list for weather tweets\n",
    "weather_tweets = []\n",
    "\n",
    "#iterate through soup and get tweet text\n",
    "for li in soup2.find_all(\"li\", {\"data-item-type\": \"tweet\"}):\n",
    "    #make empty lists for all available tweets \n",
    "    all_tweets = []\n",
    "    text_p = li.find(\"p\", class_=\"tweet-text\")\n",
    "    if text_p is not None:\n",
    "        all_tweets.append(text_p.get_text())\n",
    "        for i in all_tweets: \n",
    "            t = []\n",
    "            t.append(i)\n",
    "            if any(\"sol\" in s for s in t):\n",
    "                weather_tweets.append(i)\n",
    "\n",
    "#assign just current one to variable \n",
    "mars_current_weather = str(weather_tweets[0])\n",
    "mars_current_weather"
   ]
  },
  {
   "cell_type": "code",
   "execution_count": 6,
   "metadata": {},
   "outputs": [
    {
     "data": {
      "text/plain": [
       "'<table border=\"1\" class=\"dataframe\">  <thead>    <tr style=\"text-align: right;\">      <th></th>      <th>value</th>    </tr>    <tr>      <th>description</th>      <th></th>    </tr>  </thead>  <tbody>    <tr>      <th>Equatorial Diameter:</th>      <td>6,792 km</td>    </tr>    <tr>      <th>Polar Diameter:</th>      <td>6,752 km</td>    </tr>    <tr>      <th>Mass:</th>      <td>6.39 × 10^23 kg (0.11 Earths)</td>    </tr>    <tr>      <th>Moons:</th>      <td>2 (Phobos &amp; Deimos)</td>    </tr>    <tr>      <th>Orbit Distance:</th>      <td>227,943,824 km (1.38 AU)</td>    </tr>    <tr>      <th>Orbit Period:</th>      <td>687 days (1.9 years)</td>    </tr>    <tr>      <th>Surface Temperature:</th>      <td>-87 to -5 °C</td>    </tr>    <tr>      <th>First Record:</th>      <td>2nd millennium BC</td>    </tr>    <tr>      <th>Recorded By:</th>      <td>Egyptian astronomers</td>    </tr>  </tbody></table>'"
      ]
     },
     "execution_count": 6,
     "metadata": {},
     "output_type": "execute_result"
    }
   ],
   "source": [
    "#Mars Facts Information\n",
    "url = 'https://space-facts.com/mars/'\n",
    "tables = pd.read_html(url)\n",
    "mars_df=tables[0]\n",
    "mars_df.columns=[\"description\",\"value\"]\n",
    "mars_df.set_index(\"description\",inplace=True)\n",
    "mars_html_table=mars_df.to_html()\n",
    "mars_html_table.replace('\\n','')\n"
   ]
  },
  {
   "cell_type": "code",
   "execution_count": 7,
   "metadata": {},
   "outputs": [
    {
     "data": {
      "text/plain": [
       "[{'title': 'Cerberus Hemisphere Enhanced',\n",
       "  'img_url': 'https://astropedia.astrogeology.usgs.gov/download/Mars/Viking/cerberus_enhanced.tif/full.jpg'},\n",
       " {'title': 'Schiaparelli Hemisphere Enhanced',\n",
       "  'img_url': 'https://astropedia.astrogeology.usgs.gov/download/Mars/Viking/schiaparelli_enhanced.tif/full.jpg'},\n",
       " {'title': 'Syrtis Major Hemisphere Enhanced',\n",
       "  'img_url': 'https://astropedia.astrogeology.usgs.gov/download/Mars/Viking/syrtis_major_enhanced.tif/full.jpg'},\n",
       " {'title': 'Valles Marineris Hemisphere Enhanced',\n",
       "  'img_url': 'https://astropedia.astrogeology.usgs.gov/download/Mars/Viking/valles_marineris_enhanced.tif/full.jpg'}]"
      ]
     },
     "execution_count": 7,
     "metadata": {},
     "output_type": "execute_result"
    }
   ],
   "source": [
    "#Mars Hemisphere images\n",
    "url = 'https://astrogeology.usgs.gov/search/results?q=hemisphere+enhanced&k1=target&v1=Mars'\n",
    "browser.visit(url)\n",
    "\n",
    "html = browser.html\n",
    "soup = BeautifulSoup(html, 'html.parser')\n",
    "hemi1=soup.find(\"div\",class_='collapsible results')\n",
    "hemisphere1=hemi1.find_all('a')\n",
    "main_url=\"https://astrogeology.usgs.gov/\"\n",
    "hemisphere_image_urls=[]\n",
    "for hemi in hemisphere1:\n",
    "    if hemi.h3:\n",
    "        title=hemi.h3.text\n",
    "        link=hemi[\"href\"]\n",
    "        forward_url=main_url+link\n",
    "        browser.visit(forward_url)\n",
    "        html = browser.html\n",
    "        soup = BeautifulSoup(html, 'html.parser')\n",
    "        hemi2=soup.find(\"div\",class_= \"downloads\")\n",
    "        image=hemi2.ul.a[\"href\"]\n",
    "        hemi_dict={}\n",
    "        hemi_dict[\"title\"]=title\n",
    "        hemi_dict[\"img_url\"]=image\n",
    "        hemisphere_image_urls.append(hemi_dict)\n",
    "        browser.back()\n",
    "\n",
    "hemisphere_image_urls"
   ]
  },
  {
   "cell_type": "code",
   "execution_count": 8,
   "metadata": {},
   "outputs": [],
   "source": [
    "browser.quit()"
   ]
  }
 ],
 "metadata": {
  "kernelspec": {
   "display_name": "Python 3",
   "language": "python",
   "name": "python3"
  },
  "language_info": {
   "codemirror_mode": {
    "name": "ipython",
    "version": 3
   },
   "file_extension": ".py",
   "mimetype": "text/x-python",
   "name": "python",
   "nbconvert_exporter": "python",
   "pygments_lexer": "ipython3",
   "version": "3.7.4"
  },
  "varInspector": {
   "cols": {
    "lenName": 16,
    "lenType": 16,
    "lenVar": 40
   },
   "kernels_config": {
    "python": {
     "delete_cmd_postfix": "",
     "delete_cmd_prefix": "del ",
     "library": "var_list.py",
     "varRefreshCmd": "print(var_dic_list())"
    },
    "r": {
     "delete_cmd_postfix": ") ",
     "delete_cmd_prefix": "rm(",
     "library": "var_list.r",
     "varRefreshCmd": "cat(var_dic_list()) "
    }
   },
   "types_to_exclude": [
    "module",
    "function",
    "builtin_function_or_method",
    "instance",
    "_Feature"
   ],
   "window_display": false
  }
 },
 "nbformat": 4,
 "nbformat_minor": 2
}
